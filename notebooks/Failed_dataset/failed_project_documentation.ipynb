{
 "cells": [
  {
   "cell_type": "markdown",
   "id": "f979277e-9470-417a-859f-5645b17132b6",
   "metadata": {},
   "source": [
    "# Linear Regression from Scratch with Classic Gradient Descent\n",
    "This project implements linear regression using classic (batch) gradient descent, demonstrates data handling best practices, and presents results and insights suitable for showcasing junior ML engineering skills.\n",
    "\n",
    "**Author:** Joshua E. Brown  \n",
    "**Date:** 2025-08-03\n"
   ]
  },
  {
   "cell_type": "markdown",
   "id": "acb36308-26d0-4f24-92bc-a3982911a0fe",
   "metadata": {},
   "source": [
    "# Project Directory Structure\n",
    "\n",
    "gradient_descent_scratch_p_project0\n",
    "- data/\n",
    "- - aircraft_data.csv\n",
    "- g_d_s_p0\n",
    "- - .spyproject\n",
    "- notebooks/\n",
    "- - project_documentation.ipynb\n",
    "- src/\n",
    "- - main.py\n",
    "- plots/\n",
    "- README.md\n",
    "- requirements.txt\n",
    "- .gitignore\n"
   ]
  },
  {
   "cell_type": "markdown",
   "id": "f4f319c6-96da-47f3-9534-b42b55c70dc3",
   "metadata": {},
   "source": [
    "## Dataset\n",
    "\n",
    "This project uses the \"Aircraft Sensor and Engine Performance\" dataset:\n",
    "\n",
    "> Aircraft Sensor and Engine Performance.  \n",
    "> Compiled by: Aadharsh Viswanath.  \n",
    "> Aviation Sensor Data: Engine Performance and Operational Settings.  \n",
    "> [Available on Kaggle](https://www.kaggle.com/datasets/aadharshviswanath/aircraft-sensor-and-engine-performance) (MIT License).\n"
   ]
  },
  {
   "cell_type": "markdown",
   "id": "7d8bf617-3b14-4cfb-9e27-a826515d41c0",
   "metadata": {},
   "source": [
    "# Aircraft Sensor and Engine Performance Dataset\n",
    "\n",
    "## Overview\n",
    "\n",
    "The **Aircraft Sensor and Engine Performance** dataset, collected by Aadharsh Viswanath, consists of detailed aviation sensor data recording **engine performance metrics and operational settings** from commercial jet engines over multiple flights. This dataset is well-suited for predictive maintenance, reliability analysis, and multivariate regression tasks, making it an excellent resource for demonstrating **multi-factor (multivariate) gradient descent** in machine learning.\n",
    "\n",
    "---\n",
    "\n",
    "## Dataset Description\n",
    "\n",
    "- **Source:** Real-world aviation engine monitoring data (public, open-source).\n",
    "- **Format:** CSV (comma-separated values), readily usable with `pandas`.\n",
    "- **Observations:** Each row represents a snapshot (flight cycle or time interval) of a specific engine's operation.\n",
    "- **Features:** Multiple continuous variables, including sensor readings and operational parameters.\n",
    "- **Target(s):** Intended for regression or classification of equipment health, engine degradation, or time-to-failure.\n",
    "\n",
    "### Example Columns\n",
    "\n",
    "| Column Name      | Description                                        | Example Values      |\n",
    "|------------------|----------------------------------------------------|--------------------|\n",
    "| `unit_number`    | Engine identifier                                  | 12                 |\n",
    "| `time_in_cycles` | Operational cycle (flight number/time series index) | 130                |\n",
    "| `op_set_1`       | Operational setting 1                              | 0.73               |\n",
    "| `op_set_2`       | Operational setting 2                              | -0.0005            |\n",
    "| `op_set_3`       | Operational setting 3                              | 100                |\n",
    "| `sensor_1`       | Sensor reading (e.g., temperature, flow, etc.)     | 518.7              |\n",
    "| ...              | Additional sensors (sensor_2, ..., sensor_N)       | -                  |\n",
    "| `RUL` (optional) | Remaining Useful Life (if provided/calculable)     | 115                |\n",
    "\n",
    "> *Column names and targets can vary; check the data dictionary or notebook for specifics on your download.*\n",
    "\n",
    "---\n",
    "\n",
    "## Supporting Multi-Factor Gradient Descent\n",
    "\n",
    "This dataset contains **multiple, correlated features** (sensor and operational readings) for each engine/unit. You can use several sensor values and settings **as simultaneous input variables** in a linear regression model. This allows you to:\n",
    "\n",
    "- **Demonstrate multivariate linear regression** from scratch using classic gradient descent.\n",
    "- Analyze the influence of different factors (e.g., temperature, pressure, RPM, operational modes) on an engine's condition or time-to-failure.\n",
    "- Visualize and interpret weights/coefficients learned for each sensor—insightful for maintenance and safety analytics.\n",
    "\n",
    "---\n",
    "\n",
    "## Research and Industry Relevance\n",
    "\n",
    "- **Condition Monitoring:** Monitor aircraft health and predict future states or failures.\n",
    "- **Maintenance Forecasting:** Anticipate required maintenance based on real sensor data.\n",
    "- **Reliability Engineering:** Identify key influencing factors on engine longevity and risk.\n",
    "- **Defense and Commercial Applications:** Data structure matches aviation standards used in both civilian and military fleet management."
   ]
  },
  {
   "cell_type": "code",
   "execution_count": null,
   "id": "0c9bae43-5a80-4047-8421-f5568310d5fc",
   "metadata": {},
   "outputs": [],
   "source": []
  }
 ],
 "metadata": {
  "kernelspec": {
   "display_name": "Python g_d_s_p0",
   "language": "python",
   "name": "g_d_s_p0"
  },
  "language_info": {
   "codemirror_mode": {
    "name": "ipython",
    "version": 3
   },
   "file_extension": ".py",
   "mimetype": "text/x-python",
   "name": "python",
   "nbconvert_exporter": "python",
   "pygments_lexer": "ipython3",
   "version": "3.11.13"
  }
 },
 "nbformat": 4,
 "nbformat_minor": 5
}
