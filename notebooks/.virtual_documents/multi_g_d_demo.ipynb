








import matplotlib as plt
import numpy as np
import pandas as pd

# Conversion of .txt file to .csv file
with open('../data/dataset_a_s_e_p/PM_test.txt') as file:
    for _ in range(5):
        print(file.readline())

column_names = ['id', 'cycle', 'setting1', 'setting2', 'setting3'] + \
                [f's{i}' for i in range(1, 22)]

pm_test_df = pd.read_csv(
    '../data/dataset_a_s_e_p/PM_test.txt',
    sep=r'\s+',
    header=None,
    names=column_names
)

print(pm_test_df.head(20))
pm_test_df.to_csv('../data/dataset_a_s_e_p/PM_test.csv', index=False)






# Pre NA drop check
with pd.option_context('display.max_columns', None, 'display.max_rows', None):
    print(pm_test_df.describe())

# Check for missing data
print("\n Null values: \n", pm_test_df.isnull().sum())


pm_test_df_clean = pm_test_df.dropna()

# Confirmation of null removal
print("\n Null values: \n", pm_test_df_clean.isnull().sum())

# Check for constants
with pd.option_context('display.max_columns', None, 'display.max_rows', None):
    print(pm_test_df_clean.describe())








# Feature columns to ensure only features are normalized
# Setting 3 is a constant, so it is not normalized
feature_columns = ['setting1', 'setting2'] + [f's{i}' for i in range(1, 22)
                                              if i not in range(18, 20)]

print(feature_columns)

# Pre-data "normalization" check
with pd.option_context('display.max_columns', None, 'display.max_rows', None):
    print(pm_test_df_clean.describe())

# Mean/STD calculation of pm_test
mean = pm_test_df_clean[feature_columns].mean()
std = pm_test_df_clean[feature_columns].std()

# Standardization of each column
pm_test_df_clean.loc[:, feature_columns] = (
    pm_test_df_clean[feature_columns] - mean) / std


# Scaling confirmation
with pd.option_context('display.max_columns', None, 'display.max_rows', None):
    print(pm_test_df_clean.describe())



